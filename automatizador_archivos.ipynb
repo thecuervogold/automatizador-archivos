{
 "cells": [
  {
   "cell_type": "markdown",
   "id": "4dbcfdc2-5f17-4342-9d1b-37480df8fe8a",
   "metadata": {},
   "source": [
    "Automatizador de archivos con Python"
   ]
  },
  {
   "cell_type": "markdown",
   "id": "de9d48bd-1a0e-4f60-a55a-6497f0831959",
   "metadata": {},
   "source": [
    "Este notebook muestra cómo automatizar el proceso de mover y organizar archivos desde una carpeta (como \"Descargas\") hacia carpetas de destino, usando Python. \n",
    "Es útil para mantener el orden y ahorrar tiempo en tareas repetitivas."
   ]
  },
  {
   "cell_type": "markdown",
   "id": "aa44569c-c241-4043-b577-6acfe2ead5be",
   "metadata": {},
   "source": [
    "Paso 1: Librerías necesarias"
   ]
  },
  {
   "cell_type": "code",
   "execution_count": 22,
   "id": "49bd9699-4284-49c9-ae59-220becdbfa8e",
   "metadata": {
    "tags": []
   },
   "outputs": [],
   "source": [
    "import os  \n",
    "import shutil"
   ]
  },
  {
   "cell_type": "markdown",
   "id": "36c5644f-08a9-4cb5-b110-4e21c4e57644",
   "metadata": {},
   "source": [
    "Paso 2: Definir rutas de origen y destino\n",
    "\n",
    "Asegúrate de personalizar estas rutas según tu sistema"
   ]
  },
  {
   "cell_type": "code",
   "execution_count": 34,
   "id": "bf0935dc-bd02-4628-b937-52e78e98604f",
   "metadata": {
    "tags": []
   },
   "outputs": [],
   "source": [
    "# Usar raw strings o slashes para evitar errores de escape en Windows. \n",
    "origen = 'C:/Users/thecuervogold/Inicio'\n",
    "destino ='C:/Users/thecuervogold/Destino'\n",
    "\n",
    "# Crear carpeta de destino si no existe\n",
    "if not os.path.exists(destino):\n",
    "    os.makedirs(destino)"
   ]
  },
  {
   "cell_type": "markdown",
   "id": "fd4957fc-5913-45a6-9ba3-cc6a0946e9f9",
   "metadata": {},
   "source": [
    "Paso 3: Filtrar archivos por tipo\n",
    "\n",
    "Moveremos solo los archivos con extensiones .pdf, xlxs y .csv."
   ]
  },
  {
   "cell_type": "code",
   "execution_count": 38,
   "id": "c2ac3df7-ce67-427d-9d6b-a978b278662c",
   "metadata": {
    "tags": []
   },
   "outputs": [
    {
     "name": "stdout",
     "output_type": "stream",
     "text": [
      "Movido: Excel Que es y Para que Sirve (1).xlsx\n"
     ]
    }
   ],
   "source": [
    "extensiones_permitidas = ['.pdf', '.xlsx', '.csv']\n",
    "\n",
    "archivos = os.listdir(origen)\n",
    "\n",
    "for archivo in archivos:\n",
    "    ruta_archivo = os.path.join(origen, archivo)\n",
    "    if os.path.isfile(ruta_archivo):\n",
    "        _, extension = os.path.splitext(archivo)\n",
    "        if extension.lower() in extensiones_permitidas:\n",
    "            nueva_ruta = os.path.join(destino, archivo)\n",
    "            shutil.move(ruta_archivo, nueva_ruta)\n",
    "            print(f'Movido: {archivo}')"
   ]
  },
  {
   "cell_type": "markdown",
   "id": "cd8e4a8f-1819-412c-aaa2-d628704e514c",
   "metadata": {},
   "source": [
    "Conclusión\n",
    "\n",
    "Este pequeño script es ideal para automatizar tareas repetitivas y mantener organizados nuestros archivos locales. Puede expandirse fácilmente para:\n",
    "- Renombrar archivos automáticamente\n",
    "- Registrar las acciones en un log\n",
    "- Programarse para ejecutarse periódicamente\n",
    "\n",
    "Este tipo de automatización mejora la eficiencia personal y profesional."
   ]
  },
  {
   "cell_type": "code",
   "execution_count": null,
   "id": "a89bc390-8ccc-47dc-a7a7-f946b00134ab",
   "metadata": {},
   "outputs": [],
   "source": []
  },
  {
   "cell_type": "code",
   "execution_count": null,
   "id": "e92c6dc5-4741-449c-a054-dc21e033bada",
   "metadata": {},
   "outputs": [],
   "source": []
  }
 ],
 "metadata": {
  "kernelspec": {
   "display_name": "Python 3 (ipykernel)",
   "language": "python",
   "name": "python3"
  },
  "language_info": {
   "codemirror_mode": {
    "name": "ipython",
    "version": 3
   },
   "file_extension": ".py",
   "mimetype": "text/x-python",
   "name": "python",
   "nbconvert_exporter": "python",
   "pygments_lexer": "ipython3",
   "version": "3.11.5"
  }
 },
 "nbformat": 4,
 "nbformat_minor": 5
}
